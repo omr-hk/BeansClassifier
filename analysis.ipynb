{
 "cells": [
  {
   "cell_type": "code",
   "execution_count": 1,
   "metadata": {},
   "outputs": [],
   "source": [
    "import tensorflow as tf\n",
    "import keras\n"
   ]
  },
  {
   "cell_type": "code",
   "execution_count": 2,
   "metadata": {},
   "outputs": [
    {
     "name": "stdout",
     "output_type": "stream",
     "text": [
      "Found 1034 files belonging to 3 classes.\n"
     ]
    }
   ],
   "source": [
    "train = keras.utils.image_dataset_from_directory(\"./data/train/\",image_size=(500,500))"
   ]
  },
  {
   "cell_type": "code",
   "execution_count": 3,
   "metadata": {},
   "outputs": [
    {
     "name": "stdout",
     "output_type": "stream",
     "text": [
      "Found 128 files belonging to 3 classes.\n"
     ]
    }
   ],
   "source": [
    "test = keras.utils.image_dataset_from_directory(\"./data/test/\",image_size=(500,500))"
   ]
  },
  {
   "cell_type": "code",
   "execution_count": 4,
   "metadata": {},
   "outputs": [
    {
     "name": "stdout",
     "output_type": "stream",
     "text": [
      "Found 133 files belonging to 3 classes.\n"
     ]
    }
   ],
   "source": [
    "val = keras.utils.image_dataset_from_directory(\"./data/validation/\",image_size=(500,500))"
   ]
  },
  {
   "cell_type": "code",
   "execution_count": 5,
   "metadata": {},
   "outputs": [
    {
     "name": "stdout",
     "output_type": "stream",
     "text": [
      "(32, 500, 500, 3)\n",
      "(32,)\n",
      "tf.Tensor([0 2 1 0 2 0 0 1 1 2 2 0 0 0 1 2 2 1 2 0 2 1 2 0 0 2 1 1 1 1 2 1], shape=(32,), dtype=int32)\n",
      "(32, 500, 500, 3)\n",
      "(32,)\n",
      "tf.Tensor([2 0 2 2 1 0 2 2 2 1 1 2 0 1 0 1 2 1 2 0 0 2 1 1 1 0 2 0 0 1 1 2], shape=(32,), dtype=int32)\n",
      "(32, 500, 500, 3)\n",
      "(32,)\n",
      "tf.Tensor([2 0 1 1 1 0 1 1 2 1 1 2 2 2 0 2 2 2 2 2 2 0 1 1 0 0 2 2 1 2 1 0], shape=(32,), dtype=int32)\n",
      "(32, 500, 500, 3)\n",
      "(32,)\n",
      "tf.Tensor([0 2 0 0 0 1 1 0 1 2 2 2 0 1 0 1 0 1 2 2 0 2 2 1 2 1 0 2 0 2 1 0], shape=(32,), dtype=int32)\n",
      "(32, 500, 500, 3)\n",
      "(32,)\n",
      "tf.Tensor([2 0 2 1 1 2 2 0 1 0 0 1 1 2 0 2 0 0 0 2 0 0 2 1 0 2 0 2 2 2 1 2], shape=(32,), dtype=int32)\n",
      "(32, 500, 500, 3)\n",
      "(32,)\n",
      "tf.Tensor([0 2 2 1 1 2 2 2 0 2 1 2 1 2 0 0 0 0 0 1 1 2 0 2 1 2 2 1 0 0 0 0], shape=(32,), dtype=int32)\n",
      "(32, 500, 500, 3)\n",
      "(32,)\n",
      "tf.Tensor([2 0 1 0 0 2 0 0 0 0 2 2 2 0 0 0 0 1 2 0 2 1 0 1 0 2 0 0 1 0 1 0], shape=(32,), dtype=int32)\n",
      "(32, 500, 500, 3)\n",
      "(32,)\n",
      "tf.Tensor([0 0 2 1 2 1 2 1 2 1 1 1 0 1 0 1 0 2 0 0 0 1 1 0 2 2 0 2 1 1 0 0], shape=(32,), dtype=int32)\n",
      "(32, 500, 500, 3)\n",
      "(32,)\n",
      "tf.Tensor([1 0 0 1 1 1 0 1 0 0 2 0 1 1 1 2 0 1 1 1 0 2 2 1 0 0 2 2 2 2 2 0], shape=(32,), dtype=int32)\n",
      "(32, 500, 500, 3)\n",
      "(32,)\n",
      "tf.Tensor([0 2 2 1 0 1 0 1 2 0 1 2 0 2 1 2 2 0 2 0 0 2 0 1 0 0 2 1 0 1 0 2], shape=(32,), dtype=int32)\n",
      "(32, 500, 500, 3)\n",
      "(32,)\n",
      "tf.Tensor([0 2 2 1 1 0 0 2 0 2 2 0 1 0 2 0 2 0 0 1 0 0 0 1 2 2 2 2 1 1 0 2], shape=(32,), dtype=int32)\n",
      "(32, 500, 500, 3)\n",
      "(32,)\n",
      "tf.Tensor([0 0 2 1 0 1 1 2 0 2 2 0 1 1 2 1 2 2 2 1 0 1 2 0 2 0 0 0 0 1 2 0], shape=(32,), dtype=int32)\n",
      "(32, 500, 500, 3)\n",
      "(32,)\n",
      "tf.Tensor([1 1 0 1 0 2 1 1 1 1 2 0 1 0 0 2 2 2 1 0 1 1 1 1 2 0 2 1 0 1 1 2], shape=(32,), dtype=int32)\n",
      "(32, 500, 500, 3)\n",
      "(32,)\n",
      "tf.Tensor([0 2 0 2 1 0 0 1 1 1 2 0 2 0 2 0 1 0 0 1 2 2 1 1 1 0 1 2 0 1 2 1], shape=(32,), dtype=int32)\n",
      "(32, 500, 500, 3)\n",
      "(32,)\n",
      "tf.Tensor([2 2 1 2 1 0 1 1 1 2 2 1 1 0 0 2 2 2 1 1 1 0 1 0 0 0 2 1 0 0 1 0], shape=(32,), dtype=int32)\n",
      "(32, 500, 500, 3)\n",
      "(32,)\n",
      "tf.Tensor([0 2 2 1 0 2 0 0 1 2 0 1 0 1 2 1 0 1 2 2 0 2 1 0 1 1 1 1 1 0 2 2], shape=(32,), dtype=int32)\n",
      "(32, 500, 500, 3)\n",
      "(32,)\n",
      "tf.Tensor([1 0 0 1 0 2 1 0 0 2 0 0 2 1 0 1 0 0 0 2 1 2 1 0 1 2 0 0 1 2 2 1], shape=(32,), dtype=int32)\n",
      "(32, 500, 500, 3)\n",
      "(32,)\n",
      "tf.Tensor([2 2 1 2 2 2 1 0 0 2 2 0 1 2 2 1 0 2 1 2 1 0 1 2 0 2 0 2 1 0 2 2], shape=(32,), dtype=int32)\n",
      "(32, 500, 500, 3)\n",
      "(32,)\n",
      "tf.Tensor([2 1 1 0 0 2 1 2 2 0 2 1 0 1 1 2 0 1 1 1 1 2 2 2 2 0 1 1 2 0 0 1], shape=(32,), dtype=int32)\n",
      "(32, 500, 500, 3)\n",
      "(32,)\n",
      "tf.Tensor([1 1 1 0 0 2 0 2 1 2 1 0 2 1 2 1 2 0 1 2 1 0 2 0 2 1 2 1 2 1 0 1], shape=(32,), dtype=int32)\n",
      "(32, 500, 500, 3)\n",
      "(32,)\n",
      "tf.Tensor([1 2 1 0 0 0 2 1 1 0 1 1 2 1 1 0 2 0 1 0 2 2 0 2 0 2 2 1 1 0 0 2], shape=(32,), dtype=int32)\n",
      "(32, 500, 500, 3)\n",
      "(32,)\n",
      "tf.Tensor([2 1 1 2 2 0 2 0 0 2 2 2 2 0 1 1 1 0 2 0 0 0 0 0 0 1 2 0 1 2 1 0], shape=(32,), dtype=int32)\n",
      "(32, 500, 500, 3)\n",
      "(32,)\n",
      "tf.Tensor([0 2 1 1 1 1 1 2 1 0 2 0 1 0 1 1 0 2 2 0 0 2 1 1 0 1 1 2 2 0 1 1], shape=(32,), dtype=int32)\n",
      "(32, 500, 500, 3)\n",
      "(32,)\n",
      "tf.Tensor([2 0 0 0 1 1 0 2 2 1 2 2 1 0 1 2 1 1 2 1 0 2 0 1 2 1 0 0 2 2 0 0], shape=(32,), dtype=int32)\n",
      "(32, 500, 500, 3)\n",
      "(32,)\n",
      "tf.Tensor([0 2 0 0 2 1 2 2 1 0 2 1 2 1 0 1 2 2 1 2 2 1 1 1 1 1 1 2 0 0 1 2], shape=(32,), dtype=int32)\n",
      "(32, 500, 500, 3)\n",
      "(32,)\n",
      "tf.Tensor([2 0 1 1 1 1 0 1 1 0 2 1 2 1 2 2 0 1 2 0 2 0 1 2 1 2 1 2 1 2 1 0], shape=(32,), dtype=int32)\n",
      "(32, 500, 500, 3)\n",
      "(32,)\n",
      "tf.Tensor([2 0 0 0 1 2 0 2 2 1 1 1 0 0 1 2 2 2 2 2 0 1 0 1 0 0 1 2 0 0 0 2], shape=(32,), dtype=int32)\n",
      "(32, 500, 500, 3)\n",
      "(32,)\n",
      "tf.Tensor([0 0 0 1 0 2 0 2 1 2 1 2 1 1 2 1 0 1 0 2 0 2 0 2 1 2 0 2 2 2 2 1], shape=(32,), dtype=int32)\n",
      "(32, 500, 500, 3)\n",
      "(32,)\n",
      "tf.Tensor([0 2 2 1 1 0 2 1 2 1 2 0 0 0 1 0 0 0 1 1 0 1 0 0 0 1 0 0 1 1 2 2], shape=(32,), dtype=int32)\n",
      "(32, 500, 500, 3)\n",
      "(32,)\n",
      "tf.Tensor([2 1 1 0 1 2 0 0 2 2 2 1 0 2 2 1 1 0 0 0 0 2 1 1 0 0 1 2 0 2 2 2], shape=(32,), dtype=int32)\n",
      "(32, 500, 500, 3)\n",
      "(32,)\n",
      "tf.Tensor([1 0 1 2 1 2 1 1 1 2 1 2 2 0 2 2 2 2 0 1 0 1 0 2 1 2 0 2 1 0 1 1], shape=(32,), dtype=int32)\n",
      "(32, 500, 500, 3)\n",
      "(32,)\n",
      "tf.Tensor([0 0 0 1 0 1 0 1 1 2 0 2 2 0 1 0 1 1 0 0 2 1 2 1 2 0 2 0 1 1 1 1], shape=(32,), dtype=int32)\n",
      "(10, 500, 500, 3)\n",
      "(10,)\n",
      "tf.Tensor([1 0 2 1 0 1 2 1 1 1], shape=(10,), dtype=int32)\n"
     ]
    }
   ],
   "source": [
    "for image, label in train:\n",
    "    print(f'{image.shape}')\n",
    "    print(f'{label.shape}')\n",
    "    print(label)"
   ]
  },
  {
   "cell_type": "code",
   "execution_count": 6,
   "metadata": {},
   "outputs": [],
   "source": [
    "from keras import layers,regularizers\n",
    "from keras.callbacks import ReduceLROnPlateau, EarlyStopping"
   ]
  },
  {
   "cell_type": "code",
   "execution_count": 7,
   "metadata": {},
   "outputs": [],
   "source": [
    "classes = train.class_names\n",
    "rlr = ReduceLROnPlateau(patience=3),\n",
    "es = EarlyStopping(monitor=\"val_accuracy\", patience=5,restore_best_weights=True)"
   ]
  },
  {
   "cell_type": "code",
   "execution_count": 8,
   "metadata": {},
   "outputs": [],
   "source": [
    "model = keras.Sequential([\n",
    "    layers.Rescaling(1./255, input_shape=(500,500,3)),\n",
    "    layers.RandomFlip(\"horizontal_and_vertical\"),\n",
    "    layers.RandomRotation(0.2),\n",
    "    layers.Conv2D(16,(3,3),activation=\"relu\",kernel_regularizer=regularizers.l1_l2()),\n",
    "    layers.MaxPool2D(),\n",
    "    layers.Conv2D(32,(3,3),activation=\"relu\",kernel_regularizer=regularizers.l1_l2()),\n",
    "    layers.MaxPool2D(),\n",
    "    layers.Conv2D(64,(3,3),activation=\"relu\",kernel_regularizer=regularizers.l1_l2()),\n",
    "    layers.MaxPool2D(),\n",
    "    layers.Flatten(),\n",
    "    layers.Dense(128,activation=\"relu\"),\n",
    "    layers.Dense(len(classes))\n",
    "    \n",
    "])"
   ]
  },
  {
   "cell_type": "code",
   "execution_count": 9,
   "metadata": {},
   "outputs": [],
   "source": [
    "model.compile(optimizer='adam',\n",
    "              loss=tf.keras.losses.SparseCategoricalCrossentropy(from_logits=True),\n",
    "              metrics=['accuracy'])"
   ]
  },
  {
   "cell_type": "code",
   "execution_count": 10,
   "metadata": {},
   "outputs": [
    {
     "name": "stdout",
     "output_type": "stream",
     "text": [
      "Model: \"sequential\"\n",
      "_________________________________________________________________\n",
      " Layer (type)                Output Shape              Param #   \n",
      "=================================================================\n",
      " rescaling (Rescaling)       (None, 500, 500, 3)       0         \n",
      "                                                                 \n",
      " conv2d (Conv2D)             (None, 498, 498, 16)      448       \n",
      "                                                                 \n",
      " max_pooling2d (MaxPooling2D  (None, 249, 249, 16)     0         \n",
      " )                                                               \n",
      "                                                                 \n",
      " conv2d_1 (Conv2D)           (None, 247, 247, 32)      4640      \n",
      "                                                                 \n",
      " max_pooling2d_1 (MaxPooling  (None, 123, 123, 32)     0         \n",
      " 2D)                                                             \n",
      "                                                                 \n",
      " conv2d_2 (Conv2D)           (None, 121, 121, 64)      18496     \n",
      "                                                                 \n",
      " max_pooling2d_2 (MaxPooling  (None, 60, 60, 64)       0         \n",
      " 2D)                                                             \n",
      "                                                                 \n",
      " flatten (Flatten)           (None, 230400)            0         \n",
      "                                                                 \n",
      " dense (Dense)               (None, 128)               29491328  \n",
      "                                                                 \n",
      " dense_1 (Dense)             (None, 3)                 387       \n",
      "                                                                 \n",
      "=================================================================\n",
      "Total params: 29,515,299\n",
      "Trainable params: 29,515,299\n",
      "Non-trainable params: 0\n",
      "_________________________________________________________________\n"
     ]
    }
   ],
   "source": [
    "model.summary()"
   ]
  },
  {
   "cell_type": "code",
   "execution_count": 11,
   "metadata": {},
   "outputs": [
    {
     "name": "stdout",
     "output_type": "stream",
     "text": [
      "Epoch 1/10\n",
      "33/33 [==============================] - 73s 2s/step - loss: 10.4403 - accuracy: 0.4420 - val_loss: 7.4452 - val_accuracy: 0.6015 - lr: 0.0010\n",
      "Epoch 2/10\n",
      "33/33 [==============================] - 72s 2s/step - loss: 5.9081 - accuracy: 0.6518 - val_loss: 4.5506 - val_accuracy: 0.7068 - lr: 0.0010\n",
      "Epoch 3/10\n",
      "33/33 [==============================] - 72s 2s/step - loss: 3.9490 - accuracy: 0.6954 - val_loss: 3.4204 - val_accuracy: 0.7068 - lr: 0.0010\n",
      "Epoch 4/10\n",
      "33/33 [==============================] - 73s 2s/step - loss: 3.1044 - accuracy: 0.7476 - val_loss: 2.8563 - val_accuracy: 0.7444 - lr: 0.0010\n",
      "Epoch 5/10\n",
      "33/33 [==============================] - 74s 2s/step - loss: 2.6782 - accuracy: 0.7727 - val_loss: 2.6105 - val_accuracy: 0.7218 - lr: 0.0010\n",
      "Epoch 6/10\n",
      "33/33 [==============================] - 74s 2s/step - loss: 2.3706 - accuracy: 0.8172 - val_loss: 2.2990 - val_accuracy: 0.7594 - lr: 0.0010\n",
      "Epoch 7/10\n",
      "33/33 [==============================] - 74s 2s/step - loss: 2.1110 - accuracy: 0.8133 - val_loss: 2.1238 - val_accuracy: 0.7669 - lr: 0.0010\n",
      "Epoch 8/10\n",
      "33/33 [==============================] - 74s 2s/step - loss: 1.8556 - accuracy: 0.8578 - val_loss: 1.9574 - val_accuracy: 0.7594 - lr: 0.0010\n",
      "Epoch 9/10\n",
      "33/33 [==============================] - 73s 2s/step - loss: 1.7175 - accuracy: 0.8482 - val_loss: 1.8418 - val_accuracy: 0.7519 - lr: 0.0010\n",
      "Epoch 10/10\n",
      "33/33 [==============================] - 73s 2s/step - loss: 1.5035 - accuracy: 0.8907 - val_loss: 1.7303 - val_accuracy: 0.7594 - lr: 0.0010\n"
     ]
    }
   ],
   "source": [
    "history = model.fit(\n",
    "  train,\n",
    "  validation_data=val,\n",
    "  epochs=10,\n",
    "  callbacks=[rlr,es]\n",
    ")"
   ]
  },
  {
   "cell_type": "code",
   "execution_count": 12,
   "metadata": {},
   "outputs": [
    {
     "name": "stdout",
     "output_type": "stream",
     "text": [
      "4/4 [==============================] - 3s 544ms/step - loss: 1.6515 - accuracy: 0.7422\n"
     ]
    },
    {
     "data": {
      "text/plain": [
       "[1.6514843702316284, 0.7421875]"
      ]
     },
     "execution_count": 12,
     "metadata": {},
     "output_type": "execute_result"
    }
   ],
   "source": [
    "model.evaluate(test)"
   ]
  },
  {
   "cell_type": "code",
   "execution_count": null,
   "metadata": {},
   "outputs": [],
   "source": [
    "model.save(\"beans_classifier.keras\")"
   ]
  }
 ],
 "metadata": {
  "kernelspec": {
   "display_name": ".venv",
   "language": "python",
   "name": "python3"
  },
  "language_info": {
   "codemirror_mode": {
    "name": "ipython",
    "version": 3
   },
   "file_extension": ".py",
   "mimetype": "text/x-python",
   "name": "python",
   "nbconvert_exporter": "python",
   "pygments_lexer": "ipython3",
   "version": "3.9.0"
  }
 },
 "nbformat": 4,
 "nbformat_minor": 2
}
